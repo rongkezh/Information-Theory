{
 "cells": [
  {
   "cell_type": "code",
   "execution_count": 34,
   "id": "540906ab",
   "metadata": {},
   "outputs": [],
   "source": [
    "filename = \"sample\"\n",
    "original_path = filename + \".txt\"\n",
    "compressed_path = filename + \"_LZW_compressed.bit\"\n",
    "recon_path = filename + \"_LZW_recon.txt\""
   ]
  },
  {
   "cell_type": "code",
   "execution_count": 35,
   "id": "e4ca813a",
   "metadata": {},
   "outputs": [],
   "source": [
    "def bin2utf8(string):\n",
    "    message = \"\"\n",
    "    while string != \"\":\n",
    "        i = chr(int(string[:8], 2))\n",
    "        message = message + i\n",
    "        string = string[8:]\n",
    "    return(message)"
   ]
  },
  {
   "cell_type": "code",
   "execution_count": 38,
   "id": "be7116ff",
   "metadata": {},
   "outputs": [],
   "source": [
    "# LZW method for compression and decompression\n",
    "\n",
    "import numpy as np\n",
    "\n",
    "Document = open(original_path, \"r\").read()\n",
    "Dictionary, EncoderOutput, = {}, np.array([])\n",
    "\n",
    "\n",
    "def InitializeDict(file):\n",
    "    for char in file:\n",
    "        if char not in Dictionary.keys():\n",
    "            Dictionary[char] = len(Dictionary)\n",
    "\n",
    "    np.save(\"InitializedDictionaryKeys.npy\", np.array(\n",
    "        list(Dictionary.keys())), allow_pickle=True)\n",
    "    np.save(\"InitializedDictionaryValues.npy\", np.array(\n",
    "        list(Dictionary.values())), allow_pickle=True)\n",
    "\n",
    "\n",
    "def compress_LZW(file):\n",
    "    global Dictionary\n",
    "    global EncoderOutput\n",
    "\n",
    "    index = 0\n",
    "\n",
    "    while index < len(file):\n",
    "        TempIndex, TrackingString = index+1, file[index]\n",
    "\n",
    "        while TempIndex < len(file) and (TrackingString + file[TempIndex]) in Dictionary.keys():\n",
    "            TrackingString += file[TempIndex]\n",
    "            TempIndex += 1\n",
    "\n",
    "        EncoderOutput = np.append(EncoderOutput, Dictionary[TrackingString]))\n",
    "        EncoderOutput = EncoderOutput.astype(int) \n",
    "        if TempIndex < len(file):\n",
    "            Dictionary[TrackingString+file[TempIndex]] = len(Dictionary)\n",
    "\n",
    "        index = TempIndex\n",
    "\n",
    "    np.save(filename + \"_LZW_compressed.npy\", EncoderOutput, allow_pickle=True)\n",
    "    print(\"encoder output: \",EncoderOutput)\n",
    "    print(\"encoder output type: \", EncoderOutput.dtype)\n",
    "    compressed = bin2utf8(EncoderOutput)\n",
    "    print(\"compressed:\", compressed)\n",
    "    with open(compressed_path,\"wb\") as compressed_file:\n",
    "        compressed_file.write(compressed)"
   ]
  },
  {
   "cell_type": "code",
   "execution_count": 39,
   "id": "19a68580",
   "metadata": {},
   "outputs": [
    {
     "name": "stdout",
     "output_type": "stream",
     "text": [
      "encoder output:  [0 1 0 2 1 3 9 2 0 0 3 4]\n",
      "encoder output type:  int32\n"
     ]
    },
    {
     "name": "stderr",
     "output_type": "stream",
     "text": [
      "<ipython-input-35-25accf25e5b8>:3: FutureWarning: elementwise comparison failed; returning scalar instead, but in the future will perform elementwise comparison\n",
      "  while string != \"\":\n"
     ]
    },
    {
     "ename": "TypeError",
     "evalue": "int() can't convert non-string with explicit base",
     "output_type": "error",
     "traceback": [
      "\u001b[1;31m---------------------------------------------------------------------------\u001b[0m",
      "\u001b[1;31mTypeError\u001b[0m                                 Traceback (most recent call last)",
      "\u001b[1;32m<timed exec>\u001b[0m in \u001b[0;36m<module>\u001b[1;34m\u001b[0m\n",
      "\u001b[1;32m<ipython-input-38-7b572686fada>\u001b[0m in \u001b[0;36mcompress_LZW\u001b[1;34m(file)\u001b[0m\n\u001b[0;32m     41\u001b[0m     \u001b[0mprint\u001b[0m\u001b[1;33m(\u001b[0m\u001b[1;34m\"encoder output: \"\u001b[0m\u001b[1;33m,\u001b[0m\u001b[0mEncoderOutput\u001b[0m\u001b[1;33m)\u001b[0m\u001b[1;33m\u001b[0m\u001b[1;33m\u001b[0m\u001b[0m\n\u001b[0;32m     42\u001b[0m     \u001b[0mprint\u001b[0m\u001b[1;33m(\u001b[0m\u001b[1;34m\"encoder output type: \"\u001b[0m\u001b[1;33m,\u001b[0m \u001b[0mEncoderOutput\u001b[0m\u001b[1;33m.\u001b[0m\u001b[0mdtype\u001b[0m\u001b[1;33m)\u001b[0m\u001b[1;33m\u001b[0m\u001b[1;33m\u001b[0m\u001b[0m\n\u001b[1;32m---> 43\u001b[1;33m     \u001b[0mcompressed\u001b[0m \u001b[1;33m=\u001b[0m \u001b[0mbin2utf8\u001b[0m\u001b[1;33m(\u001b[0m\u001b[0mEncoderOutput\u001b[0m\u001b[1;33m)\u001b[0m\u001b[1;33m\u001b[0m\u001b[1;33m\u001b[0m\u001b[0m\n\u001b[0m\u001b[0;32m     44\u001b[0m     \u001b[0mprint\u001b[0m\u001b[1;33m(\u001b[0m\u001b[1;34m\"compressed:\"\u001b[0m\u001b[1;33m,\u001b[0m \u001b[0mcompressed\u001b[0m\u001b[1;33m)\u001b[0m\u001b[1;33m\u001b[0m\u001b[1;33m\u001b[0m\u001b[0m\n\u001b[0;32m     45\u001b[0m     \u001b[1;32mwith\u001b[0m \u001b[0mopen\u001b[0m\u001b[1;33m(\u001b[0m\u001b[0mcompressed_path\u001b[0m\u001b[1;33m,\u001b[0m\u001b[1;34m\"wb\"\u001b[0m\u001b[1;33m)\u001b[0m \u001b[1;32mas\u001b[0m \u001b[0mcompressed_file\u001b[0m\u001b[1;33m:\u001b[0m\u001b[1;33m\u001b[0m\u001b[1;33m\u001b[0m\u001b[0m\n",
      "\u001b[1;32m<ipython-input-35-25accf25e5b8>\u001b[0m in \u001b[0;36mbin2utf8\u001b[1;34m(string)\u001b[0m\n\u001b[0;32m      2\u001b[0m     \u001b[0mmessage\u001b[0m \u001b[1;33m=\u001b[0m \u001b[1;34m\"\"\u001b[0m\u001b[1;33m\u001b[0m\u001b[1;33m\u001b[0m\u001b[0m\n\u001b[0;32m      3\u001b[0m     \u001b[1;32mwhile\u001b[0m \u001b[0mstring\u001b[0m \u001b[1;33m!=\u001b[0m \u001b[1;34m\"\"\u001b[0m\u001b[1;33m:\u001b[0m\u001b[1;33m\u001b[0m\u001b[1;33m\u001b[0m\u001b[0m\n\u001b[1;32m----> 4\u001b[1;33m         \u001b[0mi\u001b[0m \u001b[1;33m=\u001b[0m \u001b[0mchr\u001b[0m\u001b[1;33m(\u001b[0m\u001b[0mint\u001b[0m\u001b[1;33m(\u001b[0m\u001b[0mstring\u001b[0m\u001b[1;33m[\u001b[0m\u001b[1;33m:\u001b[0m\u001b[1;36m8\u001b[0m\u001b[1;33m]\u001b[0m\u001b[1;33m,\u001b[0m \u001b[1;36m2\u001b[0m\u001b[1;33m)\u001b[0m\u001b[1;33m)\u001b[0m\u001b[1;33m\u001b[0m\u001b[1;33m\u001b[0m\u001b[0m\n\u001b[0m\u001b[0;32m      5\u001b[0m         \u001b[0mmessage\u001b[0m \u001b[1;33m=\u001b[0m \u001b[0mmessage\u001b[0m \u001b[1;33m+\u001b[0m \u001b[0mi\u001b[0m\u001b[1;33m\u001b[0m\u001b[1;33m\u001b[0m\u001b[0m\n\u001b[0;32m      6\u001b[0m         \u001b[0mstring\u001b[0m \u001b[1;33m=\u001b[0m \u001b[0mstring\u001b[0m\u001b[1;33m[\u001b[0m\u001b[1;36m8\u001b[0m\u001b[1;33m:\u001b[0m\u001b[1;33m]\u001b[0m\u001b[1;33m\u001b[0m\u001b[1;33m\u001b[0m\u001b[0m\n",
      "\u001b[1;31mTypeError\u001b[0m: int() can't convert non-string with explicit base"
     ]
    }
   ],
   "source": [
    "%%time\n",
    "if __name__ == \"__main__\":\n",
    "    InitializeDict(Document)\n",
    "    compress_LZW(Document)"
   ]
  },
  {
   "cell_type": "code",
   "execution_count": 6,
   "id": "8f6f9e3e",
   "metadata": {},
   "outputs": [],
   "source": [
    "import numpy as np\n",
    "\n",
    "EncoderOutput = np.array([])\n",
    "Document, Dictionary = \"\", {}\n",
    "\n",
    "\n",
    "def Load():\n",
    "    global EncoderOutput\n",
    "    \n",
    "    EncoderOutput = np.load(filename + \"_LZW_compressed.npy\", allow_pickle=True)\n",
    "    keys, values = np.load(\"InitializedDictionaryKeys.npy\", allow_pickle=True), np.load(\n",
    "        \"InitializedDictionaryValues.npy\", allow_pickle=True)\n",
    "\n",
    "    for i in range(len(keys)):\n",
    "        Dictionary[values[i]] = keys[i]\n",
    "\n",
    "\n",
    "def recon_LZW():\n",
    "    global EncoderOutput\n",
    "    global Dictionary\n",
    "    global Document\n",
    "\n",
    "    Document += Dictionary[EncoderOutput[0]]\n",
    "    TempString = Dictionary[EncoderOutput[0]]\n",
    "\n",
    "    for index in range(1, len(EncoderOutput)):\n",
    "        Document += Dictionary[EncoderOutput[index]]\n",
    "        TempString += Dictionary[EncoderOutput[index]]\n",
    "        TempIndex = 1\n",
    "\n",
    "        while TempIndex <= len(TempString) and TempString[:TempIndex] in Dictionary.values():\n",
    "            TempIndex += 1\n",
    "\n",
    "        if TempString[:TempIndex] not in Dictionary.values():\n",
    "            Dictionary[len(Dictionary)] = TempString[:TempIndex]\n",
    "            TempString = TempString[TempIndex-1:]\n",
    "\n",
    "    open(recon_path, \"w\").write(Document)"
   ]
  },
  {
   "cell_type": "code",
   "execution_count": 7,
   "id": "c2ea50c9",
   "metadata": {},
   "outputs": [
    {
     "name": "stdout",
     "output_type": "stream",
     "text": [
      "Wall time: 5 ms\n"
     ]
    }
   ],
   "source": [
    "%%time\n",
    "if __name__ == \"__main__\":\n",
    "    Load()\n",
    "    recon_LZW()"
   ]
  },
  {
   "cell_type": "code",
   "execution_count": 8,
   "id": "d1a3fc3f",
   "metadata": {},
   "outputs": [],
   "source": [
    "import os\n",
    "def compareFile(path1 = \"sample.txt\",path2 = \"sample_LZW_recon.txt\"):\n",
    "    if os.stat(path1).st_size ==0 or os.stat(path2).st_size == 0:\n",
    "        print(\"\\tFile is empty\")\n",
    "        return\n",
    "    f1 = open(path1, \"r\")  \n",
    "    f2 = open(path2, \"r\")   \n",
    "    i = 0\n",
    "\n",
    "    for line1 in f1:\n",
    "        i += 1      \n",
    "        for line2 in f2:\n",
    "            if line1 != line2:\n",
    "                print(\"Differs at line\", i, \":\")\n",
    "                # else print that line from both files\n",
    "                print(\"\\tFile 1:\", line1, end='')\n",
    "                print(\"\\tFile 2:\", line2, end='')\n",
    "                return\n",
    "            break\n",
    "    print(\"The input file and reconstructed file have no difference\")\n",
    "    # closing files\n",
    "    f1.close()\n",
    "    f2.close()"
   ]
  },
  {
   "cell_type": "code",
   "execution_count": 9,
   "id": "02aafdbb",
   "metadata": {},
   "outputs": [
    {
     "name": "stdout",
     "output_type": "stream",
     "text": [
      "LZW compression: \n",
      "Compressed file path: sample_LZW_compressed.bit\n",
      "Decompressed file path: sample_LZW_recon.txt\n",
      "The input file and reconstructed file have no difference\n",
      "size of original text is: 10\n",
      "size of compressed text is: 40\n",
      "rate of compression is: 0.25\n"
     ]
    }
   ],
   "source": [
    "print(\"LZW compression: \")\n",
    "print(\"Compressed file path: \" + compressed_path)\n",
    "print(\"Decompressed file path: \" + recon_path)\n",
    "\n",
    "length_original = os.path.getsize(original_path) \n",
    "length_compressed = os.path.getsize(compressed_path) \n",
    "compareFile(original_path, recon_path)\n",
    "print(\"size of original text is:\",length_original)\n",
    "print(\"size of compressed text is:\",length_compressed)\n",
    "print(\"rate of compression is:\",length_original/length_compressed)"
   ]
  },
  {
   "cell_type": "code",
   "execution_count": null,
   "id": "7aa79ddf",
   "metadata": {},
   "outputs": [],
   "source": []
  },
  {
   "cell_type": "code",
   "execution_count": null,
   "id": "60544d98",
   "metadata": {},
   "outputs": [],
   "source": []
  }
 ],
 "metadata": {
  "kernelspec": {
   "display_name": "Python 3",
   "language": "python",
   "name": "python3"
  },
  "language_info": {
   "codemirror_mode": {
    "name": "ipython",
    "version": 3
   },
   "file_extension": ".py",
   "mimetype": "text/x-python",
   "name": "python",
   "nbconvert_exporter": "python",
   "pygments_lexer": "ipython3",
   "version": "3.8.8"
  }
 },
 "nbformat": 4,
 "nbformat_minor": 5
}
