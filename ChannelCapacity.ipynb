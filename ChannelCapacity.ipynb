{
 "cells": [
  {
   "cell_type": "code",
   "execution_count": 9,
   "id": "ae1d8d1c",
   "metadata": {},
   "outputs": [],
   "source": [
    "#Entropy Calculation\n",
    "import math\n",
    "def entropy(probabilities):\n",
    "    sum = 0\n",
    "    for i in (probabilities):\n",
    "        if i>1 or i<0:\n",
    "            print(\"probability error\")\n",
    "            break\n",
    "        if i > 0:\n",
    "            sum = sum - i * math.log(i,2)\n",
    "    return sum"
   ]
  },
  {
   "cell_type": "code",
   "execution_count": null,
   "id": "b3587ca4",
   "metadata": {},
   "outputs": [],
   "source": []
  },
  {
   "cell_type": "code",
   "execution_count": 16,
   "id": "79385016",
   "metadata": {},
   "outputs": [
    {
     "data": {
      "text/plain": [
       "1.5"
      ]
     },
     "execution_count": 16,
     "metadata": {},
     "output_type": "execute_result"
    }
   ],
   "source": [
    "entropy([1/2,1/4,1/4])"
   ]
  },
  {
   "cell_type": "code",
   "execution_count": 5,
   "id": "e9764f7e",
   "metadata": {},
   "outputs": [
    {
     "name": "stdout",
     "output_type": "stream",
     "text": [
      "0.7875937481971091\n"
     ]
    }
   ],
   "source": [
    "a1=0.5\n",
    "a3=0.5\n",
    "\n",
    "def first(a1,a3):\n",
    "    p1=1/3+5/12*a1-1/3*a3\n",
    "    p2=1/3-1/12*a1-1/12*a3\n",
    "    p3=1/3-1/3*a1+5/12*a3\n",
    "    return entropy([p1,p2,p3])\n",
    "def full(a1,a3):\n",
    "    return first(a1,a3)+ (a1+a3)*entropy([3/4,1/4])-math.log(3,2)\n",
    "print(full(a1,a3))"
   ]
  },
  {
   "cell_type": "code",
   "execution_count": 6,
   "id": "fc864318",
   "metadata": {},
   "outputs": [
    {
     "name": "stdout",
     "output_type": "stream",
     "text": [
      "0.7875937481971091\n"
     ]
    }
   ],
   "source": [
    "maximum = 0\n",
    "for x in range(101):\n",
    "    for y in range(101-x):\n",
    "        current = full((x/100),(y/100))\n",
    "        maximum = max(maximum,current)\n",
    "print(maximum)"
   ]
  },
  {
   "cell_type": "code",
   "execution_count": 7,
   "id": "777f6213",
   "metadata": {},
   "outputs": [
    {
     "name": "stdout",
     "output_type": "stream",
     "text": [
      "0.25\n"
     ]
    }
   ],
   "source": [
    "result=0\n",
    "for x in range(101):\n",
    "    for y in range(101-x):\n",
    "        result = max(result,(x/100)*(y/100)) \n",
    "print(result)"
   ]
  },
  {
   "cell_type": "code",
   "execution_count": 17,
   "id": "6a1ab569",
   "metadata": {},
   "outputs": [
    {
     "name": "stdout",
     "output_type": "stream",
     "text": [
      "0.0\n",
      "1.0 0.0 0.5\n"
     ]
    }
   ],
   "source": [
    "#c)\n",
    "def part(a2,a3):\n",
    "    p1=1-1/2*a2-a3\n",
    "    p2=1/4*a2+1/2*a3\n",
    "    p3=1/4*a2+1/2*a3\n",
    "    return entropy([p1,p2,p3])\n",
    "def full(a2,a3):\n",
    "    return part(a2,a3)-1.5*a2-a3\n",
    "print(full(a2,a3))\n",
    "maximum = 0\n",
    "for x in range(101):\n",
    "    for y in range(101-x):\n",
    "        current = full((x/100),(y/100))\n",
    "        if maximum < current:\n",
    "            maximum = max(maximum,current)\n",
    "            proba2 = x/100\n",
    "            proba3 = y/100\n",
    "print(maximum,proba2,proba3)"
   ]
  },
  {
   "cell_type": "code",
   "execution_count": 13,
   "id": "1bd050b1",
   "metadata": {},
   "outputs": [
    {
     "name": "stdout",
     "output_type": "stream",
     "text": [
      "0.38995091518648484 0.33 0.33 0.34 -1.1102230246251565e-16\n"
     ]
    }
   ],
   "source": [
    "#d\n",
    "def part(a1,a2,a3,a4):\n",
    "    p1=1/3*a1+1/3*a3\n",
    "    p2=1/3*a1+1/3*a2\n",
    "    p3=1/3*a2+1/3*a3\n",
    "    p4=1/3*a1+1/3*a2+1/3*a3\n",
    "    return entropy([p1,p2,p3,p4])\n",
    "def full(a1,a2,a3,a4):\n",
    "    return part(a1,a2,a3,a4)-math.log(3,2)\n",
    "maximum = 0\n",
    "for a1 in range(101):\n",
    "    for a2 in range(101-a1):\n",
    "        for a3 in range (101-a1-a2):\n",
    "            current = full((a1/100),(a2/100),(a3/100),(1-(a1/100)-(a2/100)-(a3/100)))\n",
    "            if maximum < current:\n",
    "                maximum = max(maximum,current)\n",
    "                proba1=a1/100\n",
    "                proba2=a2/100\n",
    "                proba3=a3/100\n",
    "                proba4=1-(a1/100)-(a2/100)-(a3/100)\n",
    "print(maximum,proba1,proba2,proba3,proba4)"
   ]
  },
  {
   "cell_type": "code",
   "execution_count": null,
   "id": "5c031557",
   "metadata": {},
   "outputs": [],
   "source": []
  }
 ],
 "metadata": {
  "kernelspec": {
   "display_name": "Python 3",
   "language": "python",
   "name": "python3"
  },
  "language_info": {
   "codemirror_mode": {
    "name": "ipython",
    "version": 3
   },
   "file_extension": ".py",
   "mimetype": "text/x-python",
   "name": "python",
   "nbconvert_exporter": "python",
   "pygments_lexer": "ipython3",
   "version": "3.8.8"
  }
 },
 "nbformat": 4,
 "nbformat_minor": 5
}
