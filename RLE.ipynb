{
 "cells": [
  {
   "cell_type": "code",
   "execution_count": 4,
   "id": "bb08c8ef",
   "metadata": {},
   "outputs": [],
   "source": [
    "import os\n",
    "def compareFile(path1 = \"midsummer.txt\",path2 = \"recon.txt\"):\n",
    "    if os.stat(path1).st_size ==0 or os.stat(path2).st_size == 0:\n",
    "        print(\"\\tFile is empty\")\n",
    "        return\n",
    "    f1 = open(path1, \"r\")  \n",
    "    f2 = open(path2, \"r\")   \n",
    "    i = 0\n",
    "    \n",
    "    for line1 in f1:\n",
    "        i += 1      \n",
    "        for line2 in f2:\n",
    "            if line1 != line2:\n",
    "                print(\"Differs at line\", i, \":\")\n",
    "                # else print that line from both files\n",
    "                print(\"\\tFile 1:\", line1, end='')\n",
    "                print(\"\\tFile 2:\", line2, end='')\n",
    "                return\n",
    "            break\n",
    "    print(\"The input file and reconstructed file have no difference\")\n",
    "    # closing files\n",
    "    f1.close()\n",
    "    f2.close()"
   ]
  },
  {
   "cell_type": "code",
   "execution_count": 13,
   "id": "c11ea315",
   "metadata": {},
   "outputs": [
    {
     "data": {
      "text/plain": [
       "'\\nrun length encoding: \\ndetect consecutive characters in the original text to suppress the length of the encoded text\\nfor example:\\n\"aabbbcc\"\\nwould be encoded as\\n\"a2b3c2\"\\n'"
      ]
     },
     "execution_count": 13,
     "metadata": {},
     "output_type": "execute_result"
    }
   ],
   "source": [
    "'''\n",
    "run length encoding: \n",
    "detect consecutive characters in the original text to suppress the length of the encoded text\n",
    "for example:\n",
    "\"aabbbcc\"\n",
    "would be encoded as\n",
    "\"a2b3c2\"\n",
    "''' "
   ]
  },
  {
   "cell_type": "code",
   "execution_count": 14,
   "id": "14c4278f",
   "metadata": {},
   "outputs": [],
   "source": [
    "def encode(message):\n",
    "    encoded_message = \"\"\n",
    "    i = 0\n",
    "   \n",
    "    while (i <= len(message)-1):\n",
    "        count = 1\n",
    "        ch = message[i]\n",
    "        j = i\n",
    "        while (j < len(message)-1):\n",
    "            if (message[j] == message[j+1]):\n",
    "                count = count+1\n",
    "                j = j+1\n",
    "            else:\n",
    "                break\n",
    "        encoded_message=encoded_message+str(count)+ch\n",
    "        i = j+1\n",
    "    return encoded_message\n",
    "  \n"
   ]
  },
  {
   "cell_type": "code",
   "execution_count": 15,
   "id": "261dcee8",
   "metadata": {},
   "outputs": [
    {
     "name": "stdout",
     "output_type": "stream",
     "text": [
      "3d3c4q3s\n",
      "1.625\n"
     ]
    }
   ],
   "source": [
    "# an example of the rle method\n",
    "message = \"dddcccqqqqsss\"\n",
    "encoded_message=encode(message)\n",
    "print(encoded_message)\n",
    "print(len(message)/len(encoded_message))"
   ]
  },
  {
   "cell_type": "code",
   "execution_count": 20,
   "id": "2079014d",
   "metadata": {},
   "outputs": [
    {
     "name": "stdout",
     "output_type": "stream",
     "text": [
      "0.510749663555938\n",
      "Wall time: 509 ms\n"
     ]
    }
   ],
   "source": [
    "%%time\n",
    "import os\n",
    "original_path = \"midsummer.txt\"\n",
    "output_path = \"midsummer_RLE.txt\"\n",
    "with open(original_path, 'r+') as file:\n",
    "    text = file.read()\n",
    "encoded_message = encode(text)\n",
    "with open(output_path, 'w') as output:\n",
    "    output.write(encoded_message)\n",
    "    print(len(text)/len(encoded_message))"
   ]
  }
 ],
 "metadata": {
  "kernelspec": {
   "display_name": "Python 3",
   "language": "python",
   "name": "python3"
  },
  "language_info": {
   "codemirror_mode": {
    "name": "ipython",
    "version": 3
   },
   "file_extension": ".py",
   "mimetype": "text/x-python",
   "name": "python",
   "nbconvert_exporter": "python",
   "pygments_lexer": "ipython3",
   "version": "3.8.8"
  }
 },
 "nbformat": 4,
 "nbformat_minor": 5
}
